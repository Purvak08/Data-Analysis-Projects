{
  "nbformat": 4,
  "nbformat_minor": 0,
  "metadata": {
    "colab": {
      "provenance": [],
      "include_colab_link": true
    },
    "kernelspec": {
      "name": "python3",
      "display_name": "Python 3"
    },
    "language_info": {
      "name": "python"
    }
  },
  "cells": [
    {
      "cell_type": "markdown",
      "metadata": {
        "id": "view-in-github",
        "colab_type": "text"
      },
      "source": [
        "<a href=\"https://colab.research.google.com/github/Purvak08/Data-Analysis-Projects/blob/main/Applied_Statistics_Project.ipynb\" target=\"_parent\"><img src=\"https://colab.research.google.com/assets/colab-badge.svg\" alt=\"Open In Colab\"/></a>"
      ]
    },
    {
      "cell_type": "markdown",
      "source": [
        "# Customer Purchase Behavior Analysis using Descriptive Statistics"
      ],
      "metadata": {
        "id": "XVRRli7RVQFs"
      }
    },
    {
      "cell_type": "markdown",
      "source": [
        "##Problem Statement"
      ],
      "metadata": {
        "id": "jfhbp8ZDB7If"
      }
    },
    {
      "cell_type": "markdown",
      "source": [
        "🔍 **Problem Statement**:\n",
        "\n",
        "Welcome to the Probability and Statistics project! 📊🔍 In this exciting journey, you'll get the chance to apply the concepts you've learned in probability theory and statistics to analyze a real-world dataset. This project is your opportunity to dive deep into the world of data analysis and gain practical experience with the tools and techniques you've been learning. 🚀\n",
        "\n",
        "🎯 **Objective**:\n",
        "\n",
        "Your mission is to analyze the provided dataset containing customer information and purchasing behavior to make informed decisions. Your goal is to identify patterns, trends, and correlations that will help your company optimize its marketing efforts and increase offer acceptance rates. 🎉"
      ],
      "metadata": {
        "id": "EB1yLJOSV1gx"
      }
    },
    {
      "cell_type": "markdown",
      "source": [
        "##About the Dataset"
      ],
      "metadata": {
        "id": "C6I6fCk2B4W-"
      }
    },
    {
      "cell_type": "markdown",
      "source": [
        "\n",
        "\n",
        "Here's the link to the [dataset](https://docs.google.com/spreadsheets/d/12ln9iTNcVNOMYi_AU-OczKpa_KIP8XyVbsjk81Na8Yk/edit?usp=sharing)\n",
        "\n",
        "\n",
        "This data was gathered during last year's campaign.\n",
        "Data description is as follows;\n",
        "\n",
        "1. Response (target) - 1 if customer accepted the offer in the last campaign, 0 otherwise\n",
        "1. ID - Unique ID of each customer\n",
        "1. Year_Birth - Age of the customer\n",
        "1. Complain - 1 if the customer complained in the last 2 years\n",
        "1. Dt_Customer - date of customer's enrollment with the company\n",
        "1. Education - customer's level of education\n",
        "1. Marital - customer's marital status\n",
        "1. Kidhome - number of small children in customer's household\n",
        "1. Teenhome - number of teenagers in customer's household\n",
        "1. Income - customer's yearly household income\n",
        "1. MntFishProducts - the amount spent on fish products in the last 2 years\n",
        "1. MntMeatProducts - the amount spent on meat products in the last 2 years\n",
        "1. MntFruits - the amount spent on fruits products in the last 2 years\n",
        "1. MntSweetProducts - amount spent on sweet products in the last 2 years\n",
        "1. MntWines - the amount spent on wine products in the last 2 years\n",
        "1. MntGoldProds - the amount spent on gold products in the last 2 years\n",
        "1. NumDealsPurchases - number of purchases made with discount\n",
        "1. NumCatalogPurchases - number of purchases made using catalog (buying goods to be shipped through the mail)\n",
        "1. NumStorePurchases - number of purchases made directly in stores\n",
        "1. NumWebPurchases - number of purchases made through the company's website\n",
        "1. NumWebVisitsMonth - number of visits to company's website in the last month\n",
        "1. Recency - number of days since the last purchase\n",
        "\n",
        "\n",
        "\n"
      ],
      "metadata": {
        "id": "E_yV1UBOAu7Z"
      }
    },
    {
      "cell_type": "code",
      "source": [
        "# Import Libraries\n",
        "\n",
        "import numpy as np\n",
        "import pandas as pd\n",
        "import matplotlib.pyplot as plt\n",
        "import seaborn as sns"
      ],
      "metadata": {
        "id": "eGTXaJIoWmk2"
      },
      "execution_count": null,
      "outputs": []
    },
    {
      "cell_type": "code",
      "source": [
        "# Mount the drive to load the dataset from Google drive\n",
        "\n",
        "from google.colab import drive\n",
        "\n",
        "drive.mount('/content/drive')\n",
        "file_path = '/content/drive/MyDrive/MidCourseAssignments/Superstore Marketing Data.csv'"
      ],
      "metadata": {
        "colab": {
          "base_uri": "https://localhost:8080/"
        },
        "id": "yRGynVvLVveS",
        "outputId": "820c0180-efcb-40b1-ce73-107e28315e97"
      },
      "execution_count": null,
      "outputs": [
        {
          "output_type": "stream",
          "name": "stdout",
          "text": [
            "Drive already mounted at /content/drive; to attempt to forcibly remount, call drive.mount(\"/content/drive\", force_remount=True).\n"
          ]
        }
      ]
    },
    {
      "cell_type": "code",
      "source": [
        "# Load Dataset\n",
        "data = pd.read_csv(file_path)\n",
        "data"
      ],
      "metadata": {
        "colab": {
          "base_uri": "https://localhost:8080/",
          "height": 444
        },
        "id": "i95hXNxNXVKp",
        "outputId": "eea4215f-00f0-4eda-8cc9-4e7fe01ee895"
      },
      "execution_count": null,
      "outputs": [
        {
          "output_type": "execute_result",
          "data": {
            "text/plain": [
              "         Id  Year_Birth   Education Marital_Status   Income  Kidhome  \\\n",
              "0      1826        1970  Graduation       Divorced  84835.0        0   \n",
              "1         1        1961  Graduation         Single  57091.0        0   \n",
              "2     10476        1958  Graduation        Married  67267.0        0   \n",
              "3      1386        1967  Graduation       Together  32474.0        1   \n",
              "4      5371        1989  Graduation         Single  21474.0        1   \n",
              "...     ...         ...         ...            ...      ...      ...   \n",
              "2235  10142        1976         PhD       Divorced  66476.0        0   \n",
              "2236   5263        1977    2n Cycle        Married  31056.0        1   \n",
              "2237     22        1976  Graduation       Divorced  46310.0        1   \n",
              "2238    528        1978  Graduation        Married  65819.0        0   \n",
              "2239   4070        1969         PhD        Married  94871.0        0   \n",
              "\n",
              "      Teenhome Dt_Customer  Recency  MntWines  ...  MntFishProducts  \\\n",
              "0            0   6/16/2014        0       189  ...              111   \n",
              "1            0   6/15/2014        0       464  ...                7   \n",
              "2            1   5/13/2014        0       134  ...               15   \n",
              "3            1    ########        0        10  ...                0   \n",
              "4            0    ########        0         6  ...               11   \n",
              "...        ...         ...      ...       ...  ...              ...   \n",
              "2235         1    ########       99       372  ...               47   \n",
              "2236         0   1/22/2013       99         5  ...                3   \n",
              "2237         0    ########       99       185  ...               15   \n",
              "2238         0  11/29/2012       99       267  ...              149   \n",
              "2239         2    ########       99       169  ...              188   \n",
              "\n",
              "      MntSweetProducts  MntGoldProds  NumDealsPurchases  NumWebPurchases  \\\n",
              "0                  189           218                  1                4   \n",
              "1                    0            37                  1                7   \n",
              "2                    2            30                  1                3   \n",
              "3                    0             0                  1                1   \n",
              "4                    0            34                  2                3   \n",
              "...                ...           ...                ...              ...   \n",
              "2235                48            78                  2                5   \n",
              "2236                 8            16                  1                1   \n",
              "2237                 5            14                  2                6   \n",
              "2238               165            63                  1                5   \n",
              "2239                 0           144                  1                8   \n",
              "\n",
              "      NumCatalogPurchases  NumStorePurchases  NumWebVisitsMonth  Response  \\\n",
              "0                       4                  6                  1         1   \n",
              "1                       3                  7                  5         1   \n",
              "2                       2                  5                  2         0   \n",
              "3                       0                  2                  7         0   \n",
              "4                       1                  2                  7         1   \n",
              "...                   ...                ...                ...       ...   \n",
              "2235                    2                 11                  4         0   \n",
              "2236                    0                  3                  8         0   \n",
              "2237                    1                  5                  8         0   \n",
              "2238                    4                 10                  3         0   \n",
              "2239                    5                  4                  7         1   \n",
              "\n",
              "      Complain  \n",
              "0            0  \n",
              "1            0  \n",
              "2            0  \n",
              "3            0  \n",
              "4            0  \n",
              "...        ...  \n",
              "2235         0  \n",
              "2236         0  \n",
              "2237         0  \n",
              "2238         0  \n",
              "2239         0  \n",
              "\n",
              "[2240 rows x 22 columns]"
            ],
            "text/html": [
              "\n",
              "  <div id=\"df-125aaeab-3180-4b0d-9249-0e22617e89ae\" class=\"colab-df-container\">\n",
              "    <div>\n",
              "<style scoped>\n",
              "    .dataframe tbody tr th:only-of-type {\n",
              "        vertical-align: middle;\n",
              "    }\n",
              "\n",
              "    .dataframe tbody tr th {\n",
              "        vertical-align: top;\n",
              "    }\n",
              "\n",
              "    .dataframe thead th {\n",
              "        text-align: right;\n",
              "    }\n",
              "</style>\n",
              "<table border=\"1\" class=\"dataframe\">\n",
              "  <thead>\n",
              "    <tr style=\"text-align: right;\">\n",
              "      <th></th>\n",
              "      <th>Id</th>\n",
              "      <th>Year_Birth</th>\n",
              "      <th>Education</th>\n",
              "      <th>Marital_Status</th>\n",
              "      <th>Income</th>\n",
              "      <th>Kidhome</th>\n",
              "      <th>Teenhome</th>\n",
              "      <th>Dt_Customer</th>\n",
              "      <th>Recency</th>\n",
              "      <th>MntWines</th>\n",
              "      <th>...</th>\n",
              "      <th>MntFishProducts</th>\n",
              "      <th>MntSweetProducts</th>\n",
              "      <th>MntGoldProds</th>\n",
              "      <th>NumDealsPurchases</th>\n",
              "      <th>NumWebPurchases</th>\n",
              "      <th>NumCatalogPurchases</th>\n",
              "      <th>NumStorePurchases</th>\n",
              "      <th>NumWebVisitsMonth</th>\n",
              "      <th>Response</th>\n",
              "      <th>Complain</th>\n",
              "    </tr>\n",
              "  </thead>\n",
              "  <tbody>\n",
              "    <tr>\n",
              "      <th>0</th>\n",
              "      <td>1826</td>\n",
              "      <td>1970</td>\n",
              "      <td>Graduation</td>\n",
              "      <td>Divorced</td>\n",
              "      <td>84835.0</td>\n",
              "      <td>0</td>\n",
              "      <td>0</td>\n",
              "      <td>6/16/2014</td>\n",
              "      <td>0</td>\n",
              "      <td>189</td>\n",
              "      <td>...</td>\n",
              "      <td>111</td>\n",
              "      <td>189</td>\n",
              "      <td>218</td>\n",
              "      <td>1</td>\n",
              "      <td>4</td>\n",
              "      <td>4</td>\n",
              "      <td>6</td>\n",
              "      <td>1</td>\n",
              "      <td>1</td>\n",
              "      <td>0</td>\n",
              "    </tr>\n",
              "    <tr>\n",
              "      <th>1</th>\n",
              "      <td>1</td>\n",
              "      <td>1961</td>\n",
              "      <td>Graduation</td>\n",
              "      <td>Single</td>\n",
              "      <td>57091.0</td>\n",
              "      <td>0</td>\n",
              "      <td>0</td>\n",
              "      <td>6/15/2014</td>\n",
              "      <td>0</td>\n",
              "      <td>464</td>\n",
              "      <td>...</td>\n",
              "      <td>7</td>\n",
              "      <td>0</td>\n",
              "      <td>37</td>\n",
              "      <td>1</td>\n",
              "      <td>7</td>\n",
              "      <td>3</td>\n",
              "      <td>7</td>\n",
              "      <td>5</td>\n",
              "      <td>1</td>\n",
              "      <td>0</td>\n",
              "    </tr>\n",
              "    <tr>\n",
              "      <th>2</th>\n",
              "      <td>10476</td>\n",
              "      <td>1958</td>\n",
              "      <td>Graduation</td>\n",
              "      <td>Married</td>\n",
              "      <td>67267.0</td>\n",
              "      <td>0</td>\n",
              "      <td>1</td>\n",
              "      <td>5/13/2014</td>\n",
              "      <td>0</td>\n",
              "      <td>134</td>\n",
              "      <td>...</td>\n",
              "      <td>15</td>\n",
              "      <td>2</td>\n",
              "      <td>30</td>\n",
              "      <td>1</td>\n",
              "      <td>3</td>\n",
              "      <td>2</td>\n",
              "      <td>5</td>\n",
              "      <td>2</td>\n",
              "      <td>0</td>\n",
              "      <td>0</td>\n",
              "    </tr>\n",
              "    <tr>\n",
              "      <th>3</th>\n",
              "      <td>1386</td>\n",
              "      <td>1967</td>\n",
              "      <td>Graduation</td>\n",
              "      <td>Together</td>\n",
              "      <td>32474.0</td>\n",
              "      <td>1</td>\n",
              "      <td>1</td>\n",
              "      <td>########</td>\n",
              "      <td>0</td>\n",
              "      <td>10</td>\n",
              "      <td>...</td>\n",
              "      <td>0</td>\n",
              "      <td>0</td>\n",
              "      <td>0</td>\n",
              "      <td>1</td>\n",
              "      <td>1</td>\n",
              "      <td>0</td>\n",
              "      <td>2</td>\n",
              "      <td>7</td>\n",
              "      <td>0</td>\n",
              "      <td>0</td>\n",
              "    </tr>\n",
              "    <tr>\n",
              "      <th>4</th>\n",
              "      <td>5371</td>\n",
              "      <td>1989</td>\n",
              "      <td>Graduation</td>\n",
              "      <td>Single</td>\n",
              "      <td>21474.0</td>\n",
              "      <td>1</td>\n",
              "      <td>0</td>\n",
              "      <td>########</td>\n",
              "      <td>0</td>\n",
              "      <td>6</td>\n",
              "      <td>...</td>\n",
              "      <td>11</td>\n",
              "      <td>0</td>\n",
              "      <td>34</td>\n",
              "      <td>2</td>\n",
              "      <td>3</td>\n",
              "      <td>1</td>\n",
              "      <td>2</td>\n",
              "      <td>7</td>\n",
              "      <td>1</td>\n",
              "      <td>0</td>\n",
              "    </tr>\n",
              "    <tr>\n",
              "      <th>...</th>\n",
              "      <td>...</td>\n",
              "      <td>...</td>\n",
              "      <td>...</td>\n",
              "      <td>...</td>\n",
              "      <td>...</td>\n",
              "      <td>...</td>\n",
              "      <td>...</td>\n",
              "      <td>...</td>\n",
              "      <td>...</td>\n",
              "      <td>...</td>\n",
              "      <td>...</td>\n",
              "      <td>...</td>\n",
              "      <td>...</td>\n",
              "      <td>...</td>\n",
              "      <td>...</td>\n",
              "      <td>...</td>\n",
              "      <td>...</td>\n",
              "      <td>...</td>\n",
              "      <td>...</td>\n",
              "      <td>...</td>\n",
              "      <td>...</td>\n",
              "    </tr>\n",
              "    <tr>\n",
              "      <th>2235</th>\n",
              "      <td>10142</td>\n",
              "      <td>1976</td>\n",
              "      <td>PhD</td>\n",
              "      <td>Divorced</td>\n",
              "      <td>66476.0</td>\n",
              "      <td>0</td>\n",
              "      <td>1</td>\n",
              "      <td>########</td>\n",
              "      <td>99</td>\n",
              "      <td>372</td>\n",
              "      <td>...</td>\n",
              "      <td>47</td>\n",
              "      <td>48</td>\n",
              "      <td>78</td>\n",
              "      <td>2</td>\n",
              "      <td>5</td>\n",
              "      <td>2</td>\n",
              "      <td>11</td>\n",
              "      <td>4</td>\n",
              "      <td>0</td>\n",
              "      <td>0</td>\n",
              "    </tr>\n",
              "    <tr>\n",
              "      <th>2236</th>\n",
              "      <td>5263</td>\n",
              "      <td>1977</td>\n",
              "      <td>2n Cycle</td>\n",
              "      <td>Married</td>\n",
              "      <td>31056.0</td>\n",
              "      <td>1</td>\n",
              "      <td>0</td>\n",
              "      <td>1/22/2013</td>\n",
              "      <td>99</td>\n",
              "      <td>5</td>\n",
              "      <td>...</td>\n",
              "      <td>3</td>\n",
              "      <td>8</td>\n",
              "      <td>16</td>\n",
              "      <td>1</td>\n",
              "      <td>1</td>\n",
              "      <td>0</td>\n",
              "      <td>3</td>\n",
              "      <td>8</td>\n",
              "      <td>0</td>\n",
              "      <td>0</td>\n",
              "    </tr>\n",
              "    <tr>\n",
              "      <th>2237</th>\n",
              "      <td>22</td>\n",
              "      <td>1976</td>\n",
              "      <td>Graduation</td>\n",
              "      <td>Divorced</td>\n",
              "      <td>46310.0</td>\n",
              "      <td>1</td>\n",
              "      <td>0</td>\n",
              "      <td>########</td>\n",
              "      <td>99</td>\n",
              "      <td>185</td>\n",
              "      <td>...</td>\n",
              "      <td>15</td>\n",
              "      <td>5</td>\n",
              "      <td>14</td>\n",
              "      <td>2</td>\n",
              "      <td>6</td>\n",
              "      <td>1</td>\n",
              "      <td>5</td>\n",
              "      <td>8</td>\n",
              "      <td>0</td>\n",
              "      <td>0</td>\n",
              "    </tr>\n",
              "    <tr>\n",
              "      <th>2238</th>\n",
              "      <td>528</td>\n",
              "      <td>1978</td>\n",
              "      <td>Graduation</td>\n",
              "      <td>Married</td>\n",
              "      <td>65819.0</td>\n",
              "      <td>0</td>\n",
              "      <td>0</td>\n",
              "      <td>11/29/2012</td>\n",
              "      <td>99</td>\n",
              "      <td>267</td>\n",
              "      <td>...</td>\n",
              "      <td>149</td>\n",
              "      <td>165</td>\n",
              "      <td>63</td>\n",
              "      <td>1</td>\n",
              "      <td>5</td>\n",
              "      <td>4</td>\n",
              "      <td>10</td>\n",
              "      <td>3</td>\n",
              "      <td>0</td>\n",
              "      <td>0</td>\n",
              "    </tr>\n",
              "    <tr>\n",
              "      <th>2239</th>\n",
              "      <td>4070</td>\n",
              "      <td>1969</td>\n",
              "      <td>PhD</td>\n",
              "      <td>Married</td>\n",
              "      <td>94871.0</td>\n",
              "      <td>0</td>\n",
              "      <td>2</td>\n",
              "      <td>########</td>\n",
              "      <td>99</td>\n",
              "      <td>169</td>\n",
              "      <td>...</td>\n",
              "      <td>188</td>\n",
              "      <td>0</td>\n",
              "      <td>144</td>\n",
              "      <td>1</td>\n",
              "      <td>8</td>\n",
              "      <td>5</td>\n",
              "      <td>4</td>\n",
              "      <td>7</td>\n",
              "      <td>1</td>\n",
              "      <td>0</td>\n",
              "    </tr>\n",
              "  </tbody>\n",
              "</table>\n",
              "<p>2240 rows × 22 columns</p>\n",
              "</div>\n",
              "    <div class=\"colab-df-buttons\">\n",
              "\n",
              "  <div class=\"colab-df-container\">\n",
              "    <button class=\"colab-df-convert\" onclick=\"convertToInteractive('df-125aaeab-3180-4b0d-9249-0e22617e89ae')\"\n",
              "            title=\"Convert this dataframe to an interactive table.\"\n",
              "            style=\"display:none;\">\n",
              "\n",
              "  <svg xmlns=\"http://www.w3.org/2000/svg\" height=\"24px\" viewBox=\"0 -960 960 960\">\n",
              "    <path d=\"M120-120v-720h720v720H120Zm60-500h600v-160H180v160Zm220 220h160v-160H400v160Zm0 220h160v-160H400v160ZM180-400h160v-160H180v160Zm440 0h160v-160H620v160ZM180-180h160v-160H180v160Zm440 0h160v-160H620v160Z\"/>\n",
              "  </svg>\n",
              "    </button>\n",
              "\n",
              "  <style>\n",
              "    .colab-df-container {\n",
              "      display:flex;\n",
              "      gap: 12px;\n",
              "    }\n",
              "\n",
              "    .colab-df-convert {\n",
              "      background-color: #E8F0FE;\n",
              "      border: none;\n",
              "      border-radius: 50%;\n",
              "      cursor: pointer;\n",
              "      display: none;\n",
              "      fill: #1967D2;\n",
              "      height: 32px;\n",
              "      padding: 0 0 0 0;\n",
              "      width: 32px;\n",
              "    }\n",
              "\n",
              "    .colab-df-convert:hover {\n",
              "      background-color: #E2EBFA;\n",
              "      box-shadow: 0px 1px 2px rgba(60, 64, 67, 0.3), 0px 1px 3px 1px rgba(60, 64, 67, 0.15);\n",
              "      fill: #174EA6;\n",
              "    }\n",
              "\n",
              "    .colab-df-buttons div {\n",
              "      margin-bottom: 4px;\n",
              "    }\n",
              "\n",
              "    [theme=dark] .colab-df-convert {\n",
              "      background-color: #3B4455;\n",
              "      fill: #D2E3FC;\n",
              "    }\n",
              "\n",
              "    [theme=dark] .colab-df-convert:hover {\n",
              "      background-color: #434B5C;\n",
              "      box-shadow: 0px 1px 3px 1px rgba(0, 0, 0, 0.15);\n",
              "      filter: drop-shadow(0px 1px 2px rgba(0, 0, 0, 0.3));\n",
              "      fill: #FFFFFF;\n",
              "    }\n",
              "  </style>\n",
              "\n",
              "    <script>\n",
              "      const buttonEl =\n",
              "        document.querySelector('#df-125aaeab-3180-4b0d-9249-0e22617e89ae button.colab-df-convert');\n",
              "      buttonEl.style.display =\n",
              "        google.colab.kernel.accessAllowed ? 'block' : 'none';\n",
              "\n",
              "      async function convertToInteractive(key) {\n",
              "        const element = document.querySelector('#df-125aaeab-3180-4b0d-9249-0e22617e89ae');\n",
              "        const dataTable =\n",
              "          await google.colab.kernel.invokeFunction('convertToInteractive',\n",
              "                                                    [key], {});\n",
              "        if (!dataTable) return;\n",
              "\n",
              "        const docLinkHtml = 'Like what you see? Visit the ' +\n",
              "          '<a target=\"_blank\" href=https://colab.research.google.com/notebooks/data_table.ipynb>data table notebook</a>'\n",
              "          + ' to learn more about interactive tables.';\n",
              "        element.innerHTML = '';\n",
              "        dataTable['output_type'] = 'display_data';\n",
              "        await google.colab.output.renderOutput(dataTable, element);\n",
              "        const docLink = document.createElement('div');\n",
              "        docLink.innerHTML = docLinkHtml;\n",
              "        element.appendChild(docLink);\n",
              "      }\n",
              "    </script>\n",
              "  </div>\n",
              "\n",
              "\n",
              "<div id=\"df-cafb1c3f-161a-4444-aef3-e9f1574b053e\">\n",
              "  <button class=\"colab-df-quickchart\" onclick=\"quickchart('df-cafb1c3f-161a-4444-aef3-e9f1574b053e')\"\n",
              "            title=\"Suggest charts.\"\n",
              "            style=\"display:none;\">\n",
              "\n",
              "<svg xmlns=\"http://www.w3.org/2000/svg\" height=\"24px\"viewBox=\"0 0 24 24\"\n",
              "     width=\"24px\">\n",
              "    <g>\n",
              "        <path d=\"M19 3H5c-1.1 0-2 .9-2 2v14c0 1.1.9 2 2 2h14c1.1 0 2-.9 2-2V5c0-1.1-.9-2-2-2zM9 17H7v-7h2v7zm4 0h-2V7h2v10zm4 0h-2v-4h2v4z\"/>\n",
              "    </g>\n",
              "</svg>\n",
              "  </button>\n",
              "\n",
              "<style>\n",
              "  .colab-df-quickchart {\n",
              "      --bg-color: #E8F0FE;\n",
              "      --fill-color: #1967D2;\n",
              "      --hover-bg-color: #E2EBFA;\n",
              "      --hover-fill-color: #174EA6;\n",
              "      --disabled-fill-color: #AAA;\n",
              "      --disabled-bg-color: #DDD;\n",
              "  }\n",
              "\n",
              "  [theme=dark] .colab-df-quickchart {\n",
              "      --bg-color: #3B4455;\n",
              "      --fill-color: #D2E3FC;\n",
              "      --hover-bg-color: #434B5C;\n",
              "      --hover-fill-color: #FFFFFF;\n",
              "      --disabled-bg-color: #3B4455;\n",
              "      --disabled-fill-color: #666;\n",
              "  }\n",
              "\n",
              "  .colab-df-quickchart {\n",
              "    background-color: var(--bg-color);\n",
              "    border: none;\n",
              "    border-radius: 50%;\n",
              "    cursor: pointer;\n",
              "    display: none;\n",
              "    fill: var(--fill-color);\n",
              "    height: 32px;\n",
              "    padding: 0;\n",
              "    width: 32px;\n",
              "  }\n",
              "\n",
              "  .colab-df-quickchart:hover {\n",
              "    background-color: var(--hover-bg-color);\n",
              "    box-shadow: 0 1px 2px rgba(60, 64, 67, 0.3), 0 1px 3px 1px rgba(60, 64, 67, 0.15);\n",
              "    fill: var(--button-hover-fill-color);\n",
              "  }\n",
              "\n",
              "  .colab-df-quickchart-complete:disabled,\n",
              "  .colab-df-quickchart-complete:disabled:hover {\n",
              "    background-color: var(--disabled-bg-color);\n",
              "    fill: var(--disabled-fill-color);\n",
              "    box-shadow: none;\n",
              "  }\n",
              "\n",
              "  .colab-df-spinner {\n",
              "    border: 2px solid var(--fill-color);\n",
              "    border-color: transparent;\n",
              "    border-bottom-color: var(--fill-color);\n",
              "    animation:\n",
              "      spin 1s steps(1) infinite;\n",
              "  }\n",
              "\n",
              "  @keyframes spin {\n",
              "    0% {\n",
              "      border-color: transparent;\n",
              "      border-bottom-color: var(--fill-color);\n",
              "      border-left-color: var(--fill-color);\n",
              "    }\n",
              "    20% {\n",
              "      border-color: transparent;\n",
              "      border-left-color: var(--fill-color);\n",
              "      border-top-color: var(--fill-color);\n",
              "    }\n",
              "    30% {\n",
              "      border-color: transparent;\n",
              "      border-left-color: var(--fill-color);\n",
              "      border-top-color: var(--fill-color);\n",
              "      border-right-color: var(--fill-color);\n",
              "    }\n",
              "    40% {\n",
              "      border-color: transparent;\n",
              "      border-right-color: var(--fill-color);\n",
              "      border-top-color: var(--fill-color);\n",
              "    }\n",
              "    60% {\n",
              "      border-color: transparent;\n",
              "      border-right-color: var(--fill-color);\n",
              "    }\n",
              "    80% {\n",
              "      border-color: transparent;\n",
              "      border-right-color: var(--fill-color);\n",
              "      border-bottom-color: var(--fill-color);\n",
              "    }\n",
              "    90% {\n",
              "      border-color: transparent;\n",
              "      border-bottom-color: var(--fill-color);\n",
              "    }\n",
              "  }\n",
              "</style>\n",
              "\n",
              "  <script>\n",
              "    async function quickchart(key) {\n",
              "      const quickchartButtonEl =\n",
              "        document.querySelector('#' + key + ' button');\n",
              "      quickchartButtonEl.disabled = true;  // To prevent multiple clicks.\n",
              "      quickchartButtonEl.classList.add('colab-df-spinner');\n",
              "      try {\n",
              "        const charts = await google.colab.kernel.invokeFunction(\n",
              "            'suggestCharts', [key], {});\n",
              "      } catch (error) {\n",
              "        console.error('Error during call to suggestCharts:', error);\n",
              "      }\n",
              "      quickchartButtonEl.classList.remove('colab-df-spinner');\n",
              "      quickchartButtonEl.classList.add('colab-df-quickchart-complete');\n",
              "    }\n",
              "    (() => {\n",
              "      let quickchartButtonEl =\n",
              "        document.querySelector('#df-cafb1c3f-161a-4444-aef3-e9f1574b053e button');\n",
              "      quickchartButtonEl.style.display =\n",
              "        google.colab.kernel.accessAllowed ? 'block' : 'none';\n",
              "    })();\n",
              "  </script>\n",
              "</div>\n",
              "    </div>\n",
              "  </div>\n"
            ]
          },
          "metadata": {},
          "execution_count": 132
        }
      ]
    },
    {
      "cell_type": "markdown",
      "source": [
        "##Task 1 - Basic CleanUp\n",
        "\n",
        "- **Clean and preprocess the dataset (handling missing values, data types, etc.).**\n",
        "\n",
        "- **Analyze the distribution of customer demographics (age, education, marital status) using descriptive statistics and visualizations.**"
      ],
      "metadata": {
        "id": "HNjRqBCzXQww"
      }
    },
    {
      "cell_type": "markdown",
      "source": [
        "\n",
        "\n",
        "**Deliverables**:\n",
        "\n",
        "- **Cleaned and Preprocessed Dataset**:\n",
        "\n",
        "  Provide a detailed report on the steps taken to handle missing values, including imputation methods used if applicable.\n",
        "  Document the process of ensuring consistent data types for each variable, addressing any inconsistencies.\n",
        "\n",
        "- **Summary of Basic Statistics**:\n",
        "\n",
        "  Present calculated statistics such as mean, median, variance, and standard deviation for each relevant numerical variable.\n",
        "  Include a concise table or summary showcasing these measures for easy reference."
      ],
      "metadata": {
        "id": "AIUm4NpNX4vt"
      }
    },
    {
      "cell_type": "code",
      "source": [
        "# Check for missing values in the dataset\n",
        "missing_values = data.isnull().sum()\n",
        "print(\"Missing Values:\")\n",
        "print(missing_values)"
      ],
      "metadata": {
        "colab": {
          "base_uri": "https://localhost:8080/"
        },
        "id": "6vcfkHE-YZ-f",
        "outputId": "0b5a136d-c41e-43f5-83aa-2e17f9e54607"
      },
      "execution_count": null,
      "outputs": [
        {
          "output_type": "stream",
          "name": "stdout",
          "text": [
            "Missing Values:\n",
            "Id                      0\n",
            "Year_Birth              0\n",
            "Education               0\n",
            "Marital_Status          0\n",
            "Income                 24\n",
            "Kidhome                 0\n",
            "Teenhome                0\n",
            "Dt_Customer             0\n",
            "Recency                 0\n",
            "MntWines                0\n",
            "MntFruits               0\n",
            "MntMeatProducts         0\n",
            "MntFishProducts         0\n",
            "MntSweetProducts        0\n",
            "MntGoldProds            0\n",
            "NumDealsPurchases       0\n",
            "NumWebPurchases         0\n",
            "NumCatalogPurchases     0\n",
            "NumStorePurchases       0\n",
            "NumWebVisitsMonth       0\n",
            "Response                0\n",
            "Complain                0\n",
            "dtype: int64\n"
          ]
        }
      ]
    },
    {
      "cell_type": "code",
      "source": [
        "# Handling missing values\n",
        "# we will impute missing values in the 'Income' column with the median.\n",
        "median_income = data['Income'].median()\n",
        "data['Income'].fillna(median_income, inplace=True)"
      ],
      "metadata": {
        "id": "TOELm4lcYwMr"
      },
      "execution_count": null,
      "outputs": []
    },
    {
      "cell_type": "code",
      "source": [
        "# Verify that missing values are handled\n",
        "missing_values_after = data.isnull().sum()\n",
        "print(\"Missing Values After Handling:\")\n",
        "print(missing_values_after)"
      ],
      "metadata": {
        "colab": {
          "base_uri": "https://localhost:8080/"
        },
        "id": "PBKRllXxZA4W",
        "outputId": "a261221d-b48a-4174-d401-6da06269366f"
      },
      "execution_count": null,
      "outputs": [
        {
          "output_type": "stream",
          "name": "stdout",
          "text": [
            "Missing Values After Handling:\n",
            "Id                     0\n",
            "Year_Birth             0\n",
            "Education              0\n",
            "Marital_Status         0\n",
            "Income                 0\n",
            "Kidhome                0\n",
            "Teenhome               0\n",
            "Dt_Customer            0\n",
            "Recency                0\n",
            "MntWines               0\n",
            "MntFruits              0\n",
            "MntMeatProducts        0\n",
            "MntFishProducts        0\n",
            "MntSweetProducts       0\n",
            "MntGoldProds           0\n",
            "NumDealsPurchases      0\n",
            "NumWebPurchases        0\n",
            "NumCatalogPurchases    0\n",
            "NumStorePurchases      0\n",
            "NumWebVisitsMonth      0\n",
            "Response               0\n",
            "Complain               0\n",
            "dtype: int64\n"
          ]
        }
      ]
    },
    {
      "cell_type": "code",
      "source": [
        "# Check data types\n",
        "data_types = data.dtypes\n",
        "print(\"Data Types:\")\n",
        "print(data_types)"
      ],
      "metadata": {
        "colab": {
          "base_uri": "https://localhost:8080/"
        },
        "id": "GU1doxtyYs2J",
        "outputId": "9b09fa31-ac0b-4966-c463-742695256679"
      },
      "execution_count": null,
      "outputs": [
        {
          "output_type": "stream",
          "name": "stdout",
          "text": [
            "Data Types:\n",
            "Id                       int64\n",
            "Year_Birth               int64\n",
            "Education               object\n",
            "Marital_Status          object\n",
            "Income                 float64\n",
            "Kidhome                  int64\n",
            "Teenhome                 int64\n",
            "Dt_Customer             object\n",
            "Recency                  int64\n",
            "MntWines                 int64\n",
            "MntFruits                int64\n",
            "MntMeatProducts          int64\n",
            "MntFishProducts          int64\n",
            "MntSweetProducts         int64\n",
            "MntGoldProds             int64\n",
            "NumDealsPurchases        int64\n",
            "NumWebPurchases          int64\n",
            "NumCatalogPurchases      int64\n",
            "NumStorePurchases        int64\n",
            "NumWebVisitsMonth        int64\n",
            "Response                 int64\n",
            "Complain                 int64\n",
            "dtype: object\n"
          ]
        }
      ]
    },
    {
      "cell_type": "code",
      "source": [
        "# Replace '########' with NaN\n",
        "data['Dt_Customer'] = data['Dt_Customer'].replace('########', pd.NA)"
      ],
      "metadata": {
        "id": "TGp6RkJrayER"
      },
      "execution_count": null,
      "outputs": []
    },
    {
      "cell_type": "code",
      "source": [
        "# Data type conversions\n",
        "data['Dt_Customer'] = pd.to_datetime(data['Dt_Customer'])  # Convert 'Dt_Customer' to datetime"
      ],
      "metadata": {
        "id": "J7PlpMQsZINT"
      },
      "execution_count": null,
      "outputs": []
    },
    {
      "cell_type": "markdown",
      "source": [
        "##Task 2 - Descriptive Statistics 📊\n",
        "\n",
        "- **Calculate measures of central tendency (mean, median, mode) and measures of dispersion (variance, standard deviation) for key variables. Identify and handle outliers if necessary.**\n"
      ],
      "metadata": {
        "id": "bDza2Cu0YpE6"
      }
    },
    {
      "cell_type": "code",
      "source": [
        "\n",
        "income = data['Income']\n",
        "\n",
        "# Calculate mean, median, and mode\n",
        "mean_income = income.mean()\n",
        "median_income = income.median()\n",
        "mode_income = income.mode().iloc[0]  # Use .iloc[0] to get the first mode (in case of multiple modes)\n",
        "\n",
        "# Calculate variance and standard deviation\n",
        "variance_income = income.var()\n",
        "std_deviation_income = income.std()\n",
        "\n",
        "# Print the results\n",
        "print(f\"Mean Income: {mean_income:.2f}\")\n",
        "print(f\"Median Income: {median_income:.2f}\")\n",
        "print(f\"Mode Income: {mode_income:.2f}\")\n",
        "print(f\"Variance of Income: {variance_income:.2f}\")\n",
        "print(f\"Standard Deviation of Income: {std_deviation_income:.2f}\")\n",
        "\n",
        "from scipy import stats\n",
        "\n",
        "# Identify and handle outliers (e.g., using z-scores)\n",
        "z_scores = np.abs(stats.zscore(income))\n",
        "threshold = 3  # Define a threshold for outliers (e.g., 3 standard deviations)\n",
        "outliers = income[z_scores > threshold]\n",
        "\n",
        "# Print the count of outliers and the updated dataset size\n",
        "print(f\"Number of Outliers: {len(outliers)}\")\n",
        "print(f\"Dataset size after removing outliers: {data.shape[0]} rows\")"
      ],
      "metadata": {
        "colab": {
          "base_uri": "https://localhost:8080/"
        },
        "id": "rynvRdoibt5f",
        "outputId": "ea379bca-36c9-47bb-f46a-9a77348a0cc0"
      },
      "execution_count": null,
      "outputs": [
        {
          "output_type": "stream",
          "name": "stdout",
          "text": [
            "Mean Income: 52237.98\n",
            "Median Income: 51381.50\n",
            "Mode Income: 51381.50\n",
            "Variance of Income: 626899235.18\n",
            "Standard Deviation of Income: 25037.96\n",
            "Number of Outliers: 8\n",
            "Dataset size after removing outliers: 2240 rows\n"
          ]
        }
      ]
    },
    {
      "cell_type": "code",
      "source": [
        "\n",
        "age = data['Year_Birth']\n",
        "\n",
        "# Calculate mean, median, and mode\n",
        "mean_age = age.mean()\n",
        "median_age = age.median()\n",
        "mode_age = age.mode().iloc[0]  # Use .iloc[0] to get the first mode (in case of multiple modes)\n",
        "\n",
        "# Calculate variance and standard deviation\n",
        "variance_age = age.var()\n",
        "std_deviation_age = age.std()\n",
        "\n",
        "# Print the results\n",
        "print(f\"Mean Age: {mean_age:.2f}\")\n",
        "print(f\"Median Age: {median_age:.2f}\")\n",
        "print(f\"Mode Age: {mode_age:.2f}\")\n",
        "print(f\"Variance of Age: {variance_age:.2f}\")\n",
        "print(f\"Standard Deviation of Age: {std_deviation_age:.2f}\")\n",
        "\n",
        "from scipy import stats\n",
        "\n",
        "# Identify and handle outliers (e.g., using z-scores)\n",
        "z_scores_age = np.abs(stats.zscore(age))\n",
        "threshold_age = 3  # Define a threshold for outliers (e.g., 3 standard deviations)\n",
        "outliers_age = age[z_scores_age > threshold_age]\n",
        "\n",
        "\n",
        "\n",
        "# Print the count of outliers and the updated dataset size\n",
        "print(f\"Number of Age Outliers: {len(outliers_age)}\")\n"
      ],
      "metadata": {
        "colab": {
          "base_uri": "https://localhost:8080/"
        },
        "id": "btX0pOhC3NAa",
        "outputId": "6485c0af-b17c-4c40-9591-1cb5e848e9db"
      },
      "execution_count": null,
      "outputs": [
        {
          "output_type": "stream",
          "name": "stdout",
          "text": [
            "Mean Age: 1968.81\n",
            "Median Age: 1970.00\n",
            "Mode Age: 1976.00\n",
            "Variance of Age: 143.62\n",
            "Standard Deviation of Age: 11.98\n",
            "Number of Age Outliers: 3\n"
          ]
        }
      ]
    },
    {
      "cell_type": "code",
      "source": [
        "\n",
        "num_deals_purchases = data['NumDealsPurchases']\n",
        "\n",
        "# Calculate mean, median, and mode\n",
        "mean_num_deals_purchases = num_deals_purchases.mean()\n",
        "median_num_deals_purchases = num_deals_purchases.median()\n",
        "mode_num_deals_purchases = num_deals_purchases.mode().iloc[0]  # Use .iloc[0] to get the first mode (in case of multiple modes)\n",
        "\n",
        "# Calculate variance and standard deviation\n",
        "variance_num_deals_purchases = num_deals_purchases.var()\n",
        "std_deviation_num_deals_purchases = num_deals_purchases.std()\n",
        "\n",
        "# Print the results\n",
        "print(f\"Mean NumDealsPurchases: {mean_num_deals_purchases:.2f}\")\n",
        "print(f\"Median NumDealsPurchases: {median_num_deals_purchases:.2f}\")\n",
        "print(f\"Mode NumDealsPurchases: {mode_num_deals_purchases:.2f}\")\n",
        "print(f\"Variance of NumDealsPurchases: {variance_num_deals_purchases:.2f}\")\n",
        "print(f\"Standard Deviation of NumDealsPurchases: {std_deviation_num_deals_purchases:.2f}\")\n",
        "\n",
        "from scipy import stats\n",
        "\n",
        "# Identify and handle outliers (e.g., using z-scores)\n",
        "z_scores = np.abs(stats.zscore(num_deals_purchases))\n",
        "threshold = 3  # Define a threshold for outliers (e.g., 3 standard deviations)\n",
        "outliers = num_deals_purchases[z_scores > threshold]\n",
        "\n",
        "\n",
        "# Print the count of outliers and the updated dataset size\n",
        "print(f\"Number of Outliers in NumDealsPurchases: {len(outliers)}\")\n",
        "\n"
      ],
      "metadata": {
        "colab": {
          "base_uri": "https://localhost:8080/"
        },
        "id": "AarJzBqgbuDh",
        "outputId": "0be3cc7e-9111-4086-9722-6fda3d7b83ab"
      },
      "execution_count": null,
      "outputs": [
        {
          "output_type": "stream",
          "name": "stdout",
          "text": [
            "Mean NumDealsPurchases: 2.33\n",
            "Median NumDealsPurchases: 2.00\n",
            "Mode NumDealsPurchases: 1.00\n",
            "Variance of NumDealsPurchases: 3.73\n",
            "Standard Deviation of NumDealsPurchases: 1.93\n",
            "Number of Outliers in NumDealsPurchases: 32\n"
          ]
        }
      ]
    },
    {
      "cell_type": "code",
      "source": [
        "\n",
        "num_catalog_purchases = data['NumCatalogPurchases']\n",
        "\n",
        "# Calculate mean, median, and mode\n",
        "mean_num_catalog_purchases = num_catalog_purchases.mean()\n",
        "median_num_catalog_purchases = num_catalog_purchases.median()\n",
        "mode_num_catalog_purchases = num_catalog_purchases.mode().iloc[0]  # Use .iloc[0] to get the first mode (in case of multiple modes)\n",
        "\n",
        "# Calculate variance and standard deviation\n",
        "variance_num_catalog_purchases = num_catalog_purchases.var()\n",
        "std_deviation_num_catalog_purchases = num_catalog_purchases.std()\n",
        "\n",
        "# Print the results\n",
        "print(f\"Mean NumCatalogPurchases: {mean_num_catalog_purchases:.2f}\")\n",
        "print(f\"Median NumCatalogPurchases: {median_num_catalog_purchases:.2f}\")\n",
        "print(f\"Mode NumCatalogPurchases: {mode_num_catalog_purchases:.2f}\")\n",
        "print(f\"Variance of NumCatalogPurchases: {variance_num_catalog_purchases:.2f}\")\n",
        "print(f\"Standard Deviation of NumCatalogPurchases: {std_deviation_num_catalog_purchases:.2f}\")\n",
        "\n",
        "from scipy import stats\n",
        "\n",
        "# Identify and handle outliers (e.g., using z-scores)\n",
        "z_scores_num_catalog_purchases = np.abs(stats.zscore(num_catalog_purchases))\n",
        "threshold = 3  # Define a threshold for outliers (e.g., 3 standard deviations)\n",
        "outliers_num_catalog_purchases = num_catalog_purchases[z_scores_num_catalog_purchases > threshold]\n",
        "\n",
        "\n",
        "# Print the count of outliers and the updated dataset size\n",
        "print(f\"Number of Outliers in NumCatalogPurchases: {len(outliers_num_catalog_purchases)}\")\n"
      ],
      "metadata": {
        "colab": {
          "base_uri": "https://localhost:8080/"
        },
        "id": "lHs50pIY4LxM",
        "outputId": "68df5f52-c7e1-49c3-db26-2334a12e1361"
      },
      "execution_count": null,
      "outputs": [
        {
          "output_type": "stream",
          "name": "stdout",
          "text": [
            "Mean NumCatalogPurchases: 2.66\n",
            "Median NumCatalogPurchases: 2.00\n",
            "Mode NumCatalogPurchases: 0.00\n",
            "Variance of NumCatalogPurchases: 8.54\n",
            "Standard Deviation of NumCatalogPurchases: 2.92\n",
            "Number of Outliers in NumCatalogPurchases: 4\n"
          ]
        }
      ]
    },
    {
      "cell_type": "code",
      "source": [
        "\n",
        "num_store_purchases = data['NumStorePurchases']\n",
        "\n",
        "# Calculate mean, median, and mode\n",
        "mean_num_store_purchases = num_store_purchases.mean()\n",
        "median_num_store_purchases = num_store_purchases.median()\n",
        "mode_num_store_purchases = num_store_purchases.mode().iloc[0]  # Use .iloc[0] to get the first mode (in case of multiple modes)\n",
        "\n",
        "# Calculate variance and standard deviation\n",
        "variance_num_store_purchases = num_store_purchases.var()\n",
        "std_deviation_num_store_purchases = num_store_purchases.std()\n",
        "\n",
        "# Print the results\n",
        "print(f\"Mean NumStorePurchases: {mean_num_store_purchases:.2f}\")\n",
        "print(f\"Median NumStorePurchases: {median_num_store_purchases:.2f}\")\n",
        "print(f\"Mode NumStorePurchases: {mode_num_store_purchases:.2f}\")\n",
        "print(f\"Variance of NumStorePurchases: {variance_num_store_purchases:.2f}\")\n",
        "print(f\"Standard Deviation of NumStorePurchases: {std_deviation_num_store_purchases:.2f}\")\n",
        "\n",
        "from scipy import stats\n",
        "import numpy as np\n",
        "\n",
        "# Identify and handle outliers (e.g., using z-scores)\n",
        "z_scores = np.abs(stats.zscore(num_store_purchases))\n",
        "threshold = 3  # Define a threshold for outliers (e.g., 3 standard deviations)\n",
        "outliers = num_store_purchases[z_scores > threshold]\n",
        "\n",
        "# Print the count of outliers and the updated dataset size\n",
        "print(f\"Number of Outliers in NumStorePurchases: {len(outliers)}\")\n"
      ],
      "metadata": {
        "colab": {
          "base_uri": "https://localhost:8080/"
        },
        "id": "blEzN3114ohC",
        "outputId": "746229a6-1559-4d20-d1fa-35bc9e35f496"
      },
      "execution_count": null,
      "outputs": [
        {
          "output_type": "stream",
          "name": "stdout",
          "text": [
            "Mean NumStorePurchases: 5.79\n",
            "Median NumStorePurchases: 5.00\n",
            "Mode NumStorePurchases: 3.00\n",
            "Variance of NumStorePurchases: 10.57\n",
            "Standard Deviation of NumStorePurchases: 3.25\n",
            "Number of Outliers in NumStorePurchases: 0\n"
          ]
        }
      ]
    },
    {
      "cell_type": "code",
      "source": [
        "# Select the variable of interest (e.g., 'NumWebPurchases')\n",
        "num_web_purchases = data['NumWebPurchases']\n",
        "\n",
        "# Calculate mean, median, and mode\n",
        "mean_num_web_purchases = num_web_purchases.mean()\n",
        "median_num_web_purchases = num_web_purchases.median()\n",
        "mode_num_web_purchases = num_web_purchases.mode().iloc[0]  # Use .iloc[0] to get the first mode (in case of multiple modes)\n",
        "\n",
        "# Calculate variance and standard deviation\n",
        "variance_num_web_purchases = num_web_purchases.var()\n",
        "std_deviation_num_web_purchases = num_web_purchases.std()\n",
        "\n",
        "# Print the results\n",
        "print(f\"Mean NumWebPurchases: {mean_num_web_purchases:.2f}\")\n",
        "print(f\"Median NumWebPurchases: {median_num_web_purchases:.2f}\")\n",
        "print(f\"Mode NumWebPurchases: {mode_num_web_purchases:.2f}\")\n",
        "print(f\"Variance of NumWebPurchases: {variance_num_web_purchases:.2f}\")\n",
        "print(f\"Standard Deviation of NumWebPurchases: {std_deviation_num_web_purchases:.2f}\")\n",
        "\n",
        "from scipy import stats\n",
        "\n",
        "# Identify and handle outliers (e.g., using z-scores)\n",
        "z_scores = np.abs(stats.zscore(num_web_purchases))\n",
        "threshold = 3  # Define a threshold for outliers (e.g., 3 standard deviations)\n",
        "outliers = num_web_purchases[z_scores > threshold]\n",
        "\n",
        "\n",
        "\n",
        "# Print the count of outliers and the updated dataset size\n",
        "print(f\"Number of Outliers in NumWebPurchases: {len(outliers)}\")\n"
      ],
      "metadata": {
        "colab": {
          "base_uri": "https://localhost:8080/"
        },
        "id": "9De94dLc5Ine",
        "outputId": "c8ebe1d4-efd8-4ee0-992c-d1cb257adbe8"
      },
      "execution_count": null,
      "outputs": [
        {
          "output_type": "stream",
          "name": "stdout",
          "text": [
            "Mean NumWebPurchases: 4.08\n",
            "Median NumWebPurchases: 4.00\n",
            "Mode NumWebPurchases: 2.00\n",
            "Variance of NumWebPurchases: 7.72\n",
            "Standard Deviation of NumWebPurchases: 2.78\n",
            "Number of Outliers in NumWebPurchases: 4\n"
          ]
        }
      ]
    },
    {
      "cell_type": "code",
      "source": [
        "\n",
        "recency = data['Recency']\n",
        "\n",
        "# Calculate mean, median, and mode\n",
        "mean_recency = recency.mean()\n",
        "median_recency = recency.median()\n",
        "mode_recency = recency.mode().iloc[0]  # Use .iloc[0] to get the first mode (in case of multiple modes)\n",
        "\n",
        "# Calculate variance and standard deviation\n",
        "variance_recency = recency.var()\n",
        "std_deviation_recency = recency.std()\n",
        "\n",
        "# Print the results\n",
        "print(f\"Mean Recency: {mean_recency:.2f}\")\n",
        "print(f\"Median Recency: {median_recency:.2f}\")\n",
        "print(f\"Mode Recency: {mode_recency:.2f}\")\n",
        "print(f\"Variance of Recency: {variance_recency:.2f}\")\n",
        "print(f\"Standard Deviation of Recency: {std_deviation_recency:.2f}\")\n",
        "\n",
        "from scipy import stats\n",
        "\n",
        "# Identify and handle outliers (e.g., using z-scores)\n",
        "z_scores = np.abs(stats.zscore(recency))\n",
        "threshold = 3  # Define a threshold for outliers (e.g., 3 standard deviations)\n",
        "outliers = recency[z_scores > threshold]\n",
        "\n",
        "\n",
        "\n",
        "# Print the count of outliers and the updated dataset size\n",
        "print(f\"Number of Outliers in Recency: {len(outliers)}\")\n"
      ],
      "metadata": {
        "colab": {
          "base_uri": "https://localhost:8080/"
        },
        "id": "lFmA9xoj5Ipt",
        "outputId": "f894916c-81ef-4888-90bb-11199bb31d09"
      },
      "execution_count": null,
      "outputs": [
        {
          "output_type": "stream",
          "name": "stdout",
          "text": [
            "Mean Recency: 49.11\n",
            "Median Recency: 49.00\n",
            "Mode Recency: 56.00\n",
            "Variance of Recency: 838.82\n",
            "Standard Deviation of Recency: 28.96\n",
            "Number of Outliers in Recency: 0\n"
          ]
        }
      ]
    },
    {
      "cell_type": "code",
      "source": [
        "# Select the variable of interest (e.g., 'NumWebVisitsMonth')\n",
        "web_visits = data['NumWebVisitsMonth']\n",
        "\n",
        "# Calculate mean, median, and mode\n",
        "mean_web_visits = web_visits.mean()\n",
        "median_web_visits = web_visits.median()\n",
        "mode_web_visits = web_visits.mode().iloc[0]  # Use .iloc[0] to get the first mode (in case of multiple modes)\n",
        "\n",
        "# Calculate variance and standard deviation\n",
        "variance_web_visits = web_visits.var()\n",
        "std_deviation_web_visits = web_visits.std()\n",
        "\n",
        "# Print the results\n",
        "print(f\"Mean Number of Web Visits per Month: {mean_web_visits:.2f}\")\n",
        "print(f\"Median Number of Web Visits per Month: {median_web_visits:.2f}\")\n",
        "print(f\"Mode Number of Web Visits per Month: {mode_web_visits:.2f}\")\n",
        "print(f\"Variance of Web Visits per Month: {variance_web_visits:.2f}\")\n",
        "print(f\"Standard Deviation of Web Visits per Month: {std_deviation_web_visits:.2f}\")\n",
        "\n",
        "from scipy import stats\n",
        "\n",
        "# Identify and handle outliers (e.g., using z-scores)\n",
        "z_scores_web_visits = np.abs(stats.zscore(web_visits))\n",
        "threshold = 3  # Define a threshold for outliers (e.g., 3 standard deviations)\n",
        "outliers_web_visits = web_visits[z_scores_web_visits > threshold]\n",
        "\n",
        "\n",
        "\n",
        "# Print the count of outliers and the updated dataset size\n",
        "print(f\"Number of Outliers in Web Visits: {len(outliers_web_visits)}\")\n"
      ],
      "metadata": {
        "colab": {
          "base_uri": "https://localhost:8080/"
        },
        "id": "jSGUPRS95ItE",
        "outputId": "fb091a41-11e9-4cef-e5e8-e3c2cbdc66b1"
      },
      "execution_count": null,
      "outputs": [
        {
          "output_type": "stream",
          "name": "stdout",
          "text": [
            "Mean Number of Web Visits per Month: 5.32\n",
            "Median Number of Web Visits per Month: 6.00\n",
            "Mode Number of Web Visits per Month: 7.00\n",
            "Variance of Web Visits per Month: 5.89\n",
            "Standard Deviation of Web Visits per Month: 2.43\n",
            "Number of Outliers in Web Visits: 9\n"
          ]
        }
      ]
    },
    {
      "cell_type": "markdown",
      "source": [
        "**Deliverables**:\n",
        "\n",
        "- **Descriptive statistics that reveal the central tendencies, variations, and potential outliers in the dataset.**:\n",
        "\n",
        "  "
      ],
      "metadata": {
        "id": "pGrBYXGWZtYe"
      }
    },
    {
      "cell_type": "markdown",
      "source": [
        "## Task 3 - Probability Distributions 🎲\n",
        "\n",
        "- **Identify variables that could follow specific probability distributions (e.g., Binomial, Normal). Calculate probabilities and expected values based on these distributions.**\n",
        "\n"
      ],
      "metadata": {
        "id": "GCB3OLxXaSCZ"
      }
    },
    {
      "cell_type": "code",
      "source": [
        "#1 Complain (Binomial Distribution):\n",
        "#Probability that a customer complains (P(Complaint = 1)) can be calculated using the binomial probability formula.\n",
        "\n",
        "from scipy.stats import binom\n",
        "\n",
        "# Calculate the mean (proportion) of customers who complained\n",
        "p_success = data['Complain'].mean()\n",
        "\n",
        "# Expected number of complaints (can be the same as the mean for a binary variable)\n",
        "expected_complain = p_success\n",
        "\n",
        "print(f\"Probability of a customer complaining: {p_success:.4f}\")\n",
        "print(f\"Expected number of complaints: {expected_complain:.2f}\")\n",
        "\n"
      ],
      "metadata": {
        "colab": {
          "base_uri": "https://localhost:8080/"
        },
        "id": "rplnI1aWfz9q",
        "outputId": "fb5f9292-0d5b-4487-ee10-8921d7f8d4c3"
      },
      "execution_count": null,
      "outputs": [
        {
          "output_type": "stream",
          "name": "stdout",
          "text": [
            "Probability of a customer complaining: 0.0094\n",
            "Expected number of complaints: 0.01\n"
          ]
        }
      ]
    },
    {
      "cell_type": "code",
      "source": [
        "#2. NumDealsPurchases (Poisson):\n",
        "\n",
        "from scipy.stats import poisson, binom\n",
        "\n",
        "k = 1  # Example: Number of deals you want to calculate the probability for\n",
        "\n",
        "# If you assume a Poisson distribution for rare events (Poisson)\n",
        "lambda_deals = data['NumDealsPurchases'].mean()\n",
        "probability_deals_poisson = poisson.pmf(k, lambda_deals)\n",
        "expected_deals_poisson = lambda_deals\n",
        "\n",
        "print(f\"Probability of {k} deals: {probability_deals_poisson:.4f}\")\n",
        "print(f\"Expected number of deals: {expected_deals_poisson:.2f}\")\n"
      ],
      "metadata": {
        "colab": {
          "base_uri": "https://localhost:8080/"
        },
        "id": "q6up51n3mGMb",
        "outputId": "57167384-3055-4f75-a484-e19616a6fa7f"
      },
      "execution_count": null,
      "outputs": [
        {
          "output_type": "stream",
          "name": "stdout",
          "text": [
            "Probability of 1 deals: 0.2273\n",
            "Expected number of deals: 2.33\n"
          ]
        }
      ]
    },
    {
      "cell_type": "code",
      "source": [
        "#3. Kidhome (Poisson):\n",
        "\n",
        "from scipy.stats import poisson, binom\n",
        "\n",
        "k = 2  # Example: Number of kids you want to calculate the probability for\n",
        "\n",
        "# If you assume a Poisson distribution for rare events (Poisson)\n",
        "lambda_deals = data['Kidhome'].mean()\n",
        "probability_poisson = poisson.pmf(k, lambda_deals)\n",
        "expected_poisson = lambda_deals\n",
        "\n",
        "print(f\"Probability of {k} kids at home: {probability_poisson:.4f}\")\n",
        "print(f\"Expected number of kids at home: {expected_poisson:.2f}\")\n"
      ],
      "metadata": {
        "colab": {
          "base_uri": "https://localhost:8080/"
        },
        "id": "O-bWxnZRqLnm",
        "outputId": "b4ccb06c-1b8b-497c-a77a-bdb1983f996b"
      },
      "execution_count": null,
      "outputs": [
        {
          "output_type": "stream",
          "name": "stdout",
          "text": [
            "Probability of 2 kids at home: 0.0633\n",
            "Expected number of kids at home: 0.44\n"
          ]
        }
      ]
    },
    {
      "cell_type": "code",
      "source": [
        "#4. Teenhome (Poisson):\n",
        "\n",
        "from scipy.stats import poisson, binom\n",
        "\n",
        "k = 2  # Example: Number of Teens you want to calculate the probability for\n",
        "\n",
        "# If you assume a Poisson distribution for rare events (Poisson)\n",
        "lambda_deals = data['Teenhome'].mean()\n",
        "probability_poisson = poisson.pmf(k, lambda_deals)\n",
        "expected_poisson = lambda_deals\n",
        "\n",
        "print(f\"Probability of {k} Teenhome at home: {probability_poisson:.4f}\")\n",
        "print(f\"Expected number of Teenhome at home: {expected_poisson:.2f}\")\n"
      ],
      "metadata": {
        "colab": {
          "base_uri": "https://localhost:8080/"
        },
        "id": "7Xq9fYlfqxnt",
        "outputId": "4b5f4b8d-ce24-4406-e12d-67dc17ad71d8"
      },
      "execution_count": null,
      "outputs": [
        {
          "output_type": "stream",
          "name": "stdout",
          "text": [
            "Probability of 2 Teenhome at home: 0.0772\n",
            "Expected number of Teenhome at home: 0.51\n"
          ]
        }
      ]
    },
    {
      "cell_type": "code",
      "source": [
        "#5. NumCatalogPurchases (Poisson):\n",
        "\n",
        "from scipy.stats import poisson, binom\n",
        "\n",
        "k = 4  # Example: Number of catlog purchases you want to calculate the probability for\n",
        "\n",
        "# If you assume a Poisson distribution for rare events (Poisson)\n",
        "lambda_deals = data['NumCatalogPurchases'].mean()\n",
        "probability_poisson = poisson.pmf(k, lambda_deals)\n",
        "expected_poisson = lambda_deals\n",
        "\n",
        "print(f\"Probability of {k} purchases from catlog: {probability_poisson:.4f}\")\n",
        "print(f\"Expected number of purchases from catlog: {expected_poisson:.2f}\")\n"
      ],
      "metadata": {
        "colab": {
          "base_uri": "https://localhost:8080/"
        },
        "id": "Hg8QHBkxrzJl",
        "outputId": "31ba8d3c-fdb0-4247-d13d-24080050e818"
      },
      "execution_count": null,
      "outputs": [
        {
          "output_type": "stream",
          "name": "stdout",
          "text": [
            "Probability of 4 purchases from catlog: 0.1461\n",
            "Expected number of purchases from catlog: 2.66\n"
          ]
        }
      ]
    },
    {
      "cell_type": "code",
      "source": [
        "#6. NumStorePurchases (Poisson):\n",
        "\n",
        "from scipy.stats import poisson, binom\n",
        "\n",
        "k = 10  # Example: Number of catlog purchases you want to calculate the probability for\n",
        "\n",
        "# If you assume a Poisson distribution for rare events (Poisson)\n",
        "lambda_deals = data['NumStorePurchases'].mean()\n",
        "probability_poisson = poisson.pmf(k, lambda_deals)\n",
        "expected_poisson = lambda_deals\n",
        "\n",
        "print(f\"Probability of {k} purchases made directly in stores: {probability_poisson:.4f}\")\n",
        "print(f\"Expected number of purchases made directly in stores: {expected_poisson:.2f}\")"
      ],
      "metadata": {
        "colab": {
          "base_uri": "https://localhost:8080/"
        },
        "id": "iziecKZrrzTg",
        "outputId": "1f82fc8f-19ec-45fc-bfb7-7f7dd971ac52"
      },
      "execution_count": null,
      "outputs": [
        {
          "output_type": "stream",
          "name": "stdout",
          "text": [
            "Probability of 10 purchases made directly in stores: 0.0357\n",
            "Expected number of purchases made directly in stores: 5.79\n"
          ]
        }
      ]
    },
    {
      "cell_type": "code",
      "source": [
        "#7. NumWebPurchases (Poisson):\n",
        "\n",
        "from scipy.stats import poisson, binom\n",
        "\n",
        "k = 1  # Example: Number of website purchases you want to calculate the probability for\n",
        "\n",
        "# If you assume a Poisson distribution for rare events (Poisson)\n",
        "lambda_deals = data['NumWebPurchases'].mean()\n",
        "probability_poisson = poisson.pmf(k, lambda_deals)\n",
        "expected_poisson = lambda_deals\n",
        "\n",
        "print(f\"Probability of {k} purchases made from website: {probability_poisson:.4f}\")\n",
        "print(f\"Expected number of purchases made from website: {expected_poisson:.2f}\")"
      ],
      "metadata": {
        "colab": {
          "base_uri": "https://localhost:8080/"
        },
        "id": "aqX7jVW_rzW5",
        "outputId": "fbc53365-53a3-43c1-9780-519314763fec"
      },
      "execution_count": null,
      "outputs": [
        {
          "output_type": "stream",
          "name": "stdout",
          "text": [
            "Probability of 1 purchases made from website: 0.0687\n",
            "Expected number of purchases made from website: 4.08\n"
          ]
        }
      ]
    },
    {
      "cell_type": "code",
      "source": [
        "#8. Year_Birth likely to be  normally distributed.\n",
        "\n",
        "# Assuming 'Year_Birth' follows a normal distribution\n",
        "mean_age = data['Year_Birth'].mean()\n",
        "std_dev_age = data['Year_Birth'].std()\n",
        "\n",
        "# Define age range\n",
        "lower_age = 1900\n",
        "upper_age = 1944\n",
        "\n",
        "# Calculate z-scores for the lower and upper ages\n",
        "z_lower = (lower_age - mean_age) / std_dev_age\n",
        "z_upper = (upper_age - mean_age) / std_dev_age\n",
        "\n",
        "# Calculate the probability that a customer's age falls within the defined range\n",
        "probability_age_range = stats.norm.cdf(z_upper) - stats.norm.cdf(z_lower)\n",
        "\n",
        "# Calculate the expected age\n",
        "expected_age = mean_age\n",
        "\n",
        "print(f\"Probability of age between {lower_age} and {upper_age}: {probability_age_range:.4f}\")\n",
        "print(f\"Expected Age: {expected_age:.2f}\")\n"
      ],
      "metadata": {
        "colab": {
          "base_uri": "https://localhost:8080/"
        },
        "id": "6RvWTaJjugFQ",
        "outputId": "41206ef1-5118-467d-ddf0-9777c9147186"
      },
      "execution_count": null,
      "outputs": [
        {
          "output_type": "stream",
          "name": "stdout",
          "text": [
            "Probability of age between 1900 and 1944: 0.0192\n",
            "Expected Age: 1968.81\n"
          ]
        }
      ]
    },
    {
      "cell_type": "code",
      "source": [
        "#9. MntFishProducts\n",
        "\n",
        "import scipy.stats as stats\n",
        "\n",
        "# Assuming 'MntFishProducts' follows a right-skewed distribution (e.g., Gamma or Exponential)\n",
        "data['MntFishProducts'].hist()  # Plot a histogram to visualize the distribution\n",
        "\n",
        "# Check for skewness\n",
        "skewness_fish_products = data['MntFishProducts'].skew()\n",
        "\n",
        "if skewness_fish_products > 0:\n",
        "    # Positive skew indicates right-skewed distribution\n",
        "    # It might be modeled as a Gamma or Exponential distribution\n",
        "    # You can choose the appropriate distribution and calculate the parameters\n",
        "\n",
        "    # For example, if you assume it follows a Gamma distribution:\n",
        "    shape_parameter = 2  # Shape parameter (adjust as needed)\n",
        "    scale_parameter = data['MntFishProducts'].mean() / shape_parameter\n",
        "\n",
        "    # Define a threshold (example)\n",
        "    threshold = 20\n",
        "\n",
        "    # Calculate the probability of spending less than 'threshold' on fish products\n",
        "    probability_fish_products = stats.gamma.cdf(threshold, a=shape_parameter, scale=scale_parameter)\n",
        "    expected_fish_products = shape_parameter * scale_parameter\n",
        "\n",
        "    print(f\"Probability of spending less than ${threshold} on fish products: {probability_fish_products:.4f}\")\n",
        "    print(f\"Expected spending on fish products: {expected_fish_products:.2f}\")\n",
        "\n",
        "# You can apply a similar approach to other right-skewed variables (MntMeatProducts, MntFruits, etc.).\n"
      ],
      "metadata": {
        "colab": {
          "base_uri": "https://localhost:8080/",
          "height": 465
        },
        "id": "5uOb6BqMugTM",
        "outputId": "8e1a8fb8-a2ea-4bab-f529-0dbb5442dda6"
      },
      "execution_count": null,
      "outputs": [
        {
          "output_type": "stream",
          "name": "stdout",
          "text": [
            "Probability of spending less than $20 on fish products: 0.2885\n",
            "Expected spending on fish products: 37.53\n"
          ]
        },
        {
          "output_type": "display_data",
          "data": {
            "text/plain": [
              "<Figure size 640x480 with 1 Axes>"
            ],
            "image/png": "[encoded data removed]"
          },
          "metadata": {}
        }
      ]
    },
    {
      "cell_type": "code",
      "source": [
        "#10. MntMeatProducts\n",
        "\n",
        "import scipy.stats as stats\n",
        "\n",
        "# Assuming 'MntMeatProducts' follows a right-skewed distribution (e.g., Gamma or Exponential)\n",
        "data['MntMeatProducts'].hist()  # Plot a histogram to visualize the distribution\n",
        "\n",
        "# Check for skewness\n",
        "skewness_meat_products = data['MntMeatProducts'].skew()\n",
        "\n",
        "if skewness_meat_products > 0:\n",
        "    # Positive skew indicates a right-skewed distribution\n",
        "    # It might be modeled as a Gamma or Exponential distribution\n",
        "    # You can choose the appropriate distribution and calculate the parameters\n",
        "\n",
        "    # For example, if you assume it follows a Gamma distribution:\n",
        "    shape_parameter = 2  # Shape parameter (adjust as needed)\n",
        "    scale_parameter = data['MntMeatProducts'].mean() / shape_parameter\n",
        "\n",
        "    # Define a threshold (example)\n",
        "    threshold = 150\n",
        "\n",
        "    # Calculate the probability of spending less than 'threshold' on meat products\n",
        "    probability_meat_products = stats.gamma.cdf(threshold, a=shape_parameter, scale=scale_parameter)\n",
        "    expected_meat_products = shape_parameter * scale_parameter\n",
        "\n",
        "    print(f\"Probability of spending less than ${threshold} on meat products: {probability_meat_products:.4f}\")\n",
        "    print(f\"Expected spending on meat products: {expected_meat_products:.2f}\")\n"
      ],
      "metadata": {
        "colab": {
          "base_uri": "https://localhost:8080/",
          "height": 465
        },
        "id": "miZCcogFugVj",
        "outputId": "78d35c69-39e3-44dc-bdb0-5a88649de089"
      },
      "execution_count": null,
      "outputs": [
        {
          "output_type": "stream",
          "name": "stdout",
          "text": [
            "Probability of spending less than $150 on meat products: 0.5363\n",
            "Expected spending on meat products: 166.95\n"
          ]
        },
        {
          "output_type": "display_data",
          "data": {
            "text/plain": [
              "<Figure size 640x480 with 1 Axes>"
            ],
            "image/png": "[encoded data removed]"
          },
          "metadata": {}
        }
      ]
    },
    {
      "cell_type": "code",
      "source": [
        "#11. MntFishProducts\n",
        "\n",
        "import scipy.stats as stats\n",
        "\n",
        "# Assuming 'MntFruits' follows a right-skewed distribution (e.g., Gamma or Exponential)\n",
        "data['MntFruits'].hist()  # Plot a histogram to visualize the distribution\n",
        "\n",
        "# Check for skewness\n",
        "skewness_fruit_products = data['MntFruits'].skew()\n",
        "\n",
        "if skewness_fruit_products > 0:\n",
        "    # Positive skew indicates right-skewed distribution\n",
        "    # It might be modeled as a Gamma or Exponential distribution\n",
        "    # You can choose the appropriate distribution and calculate the parameters\n",
        "\n",
        "    # For example, if you assume it follows a Gamma distribution:\n",
        "    shape_parameter = 2  # Shape parameter (adjust as needed)\n",
        "    scale_parameter = data['MntFishProducts'].mean() / shape_parameter\n",
        "\n",
        "    # Define a threshold (example)\n",
        "    threshold = 25\n",
        "\n",
        "    # Calculate the probability of spending less than 'threshold' on fish products\n",
        "    probability_fruit_products = stats.gamma.cdf(threshold, a=shape_parameter, scale=scale_parameter)\n",
        "    expected_fruit_products = shape_parameter * scale_parameter\n",
        "\n",
        "    print(f\"Probability of spending less than ${threshold} on fruit products: {probability_fruit_products:.4f}\")\n",
        "    print(f\"Expected spending on fruit products: {expected_fruit_products:.2f}\")\n",
        "\n",
        "# You can apply a similar approach to other right-skewed variables (MntMeatProducts, MntFruits, etc.).\n"
      ],
      "metadata": {
        "colab": {
          "base_uri": "https://localhost:8080/",
          "height": 465
        },
        "id": "x7Otk9EbugYQ",
        "outputId": "1cb18922-c8d5-48a8-b860-6a87ac770faf"
      },
      "execution_count": null,
      "outputs": [
        {
          "output_type": "stream",
          "name": "stdout",
          "text": [
            "Probability of spending less than $25 on fruit products: 0.3846\n",
            "Expected spending on fruit products: 37.53\n"
          ]
        },
        {
          "output_type": "display_data",
          "data": {
            "text/plain": [
              "<Figure size 640x480 with 1 Axes>"
            ],
            "image/png": "[encoded data removed]"
          },
          "metadata": {}
        }
      ]
    },
    {
      "cell_type": "code",
      "source": [
        "#12. MntSweetProducts\n",
        "\n",
        "import scipy.stats as stats\n",
        "\n",
        "# Assuming 'MntSweetProducts' follows a right-skewed distribution (e.g., Gamma or Exponential)\n",
        "data['MntSweetProducts'].hist()  # Plot a histogram to visualize the distribution\n",
        "\n",
        "# Check for skewness\n",
        "skewness_sweet_products = data['MntSweetProducts'].skew()\n",
        "\n",
        "if skewness_sweet_products > 0:\n",
        "    # Positive skew indicates a right-skewed distribution\n",
        "    # It might be modeled as a Gamma or Exponential distribution\n",
        "    # You can choose the appropriate distribution and calculate the parameters\n",
        "\n",
        "    # For example, if you assume it follows a Gamma distribution:\n",
        "    shape_parameter = 2  # Shape parameter (adjust as needed)\n",
        "    scale_parameter = data['MntSweetProducts'].mean() / shape_parameter\n",
        "\n",
        "    # Define a threshold (example)\n",
        "    threshold = 50\n",
        "\n",
        "    # Calculate the probability of spending less than 'threshold' on sweet products\n",
        "    probability_sweet_products = stats.gamma.cdf(threshold, a=shape_parameter, scale=scale_parameter)\n",
        "    expected_sweet_products = shape_parameter * scale_parameter\n",
        "\n",
        "    print(f\"Probability of spending less than ${threshold} on sweet products: {probability_sweet_products:.4f}\")\n",
        "    print(f\"Expected spending on sweet products: {expected_sweet_products:.2f}\")\n"
      ],
      "metadata": {
        "colab": {
          "base_uri": "https://localhost:8080/",
          "height": 465
        },
        "id": "t1JkKDrougat",
        "outputId": "854f001b-2b9c-4029-d313-f22dfd988a4a"
      },
      "execution_count": null,
      "outputs": [
        {
          "output_type": "stream",
          "name": "stdout",
          "text": [
            "Probability of spending less than $50 on sweet products: 0.8833\n",
            "Expected spending on sweet products: 27.06\n"
          ]
        },
        {
          "output_type": "display_data",
          "data": {
            "text/plain": [
              "<Figure size 640x480 with 1 Axes>"
            ],
            "image/png": "[encoded data removed]"
          },
          "metadata": {}
        }
      ]
    },
    {
      "cell_type": "code",
      "source": [
        "#13. MntWines\n",
        "\n",
        "import scipy.stats as stats\n",
        "\n",
        "# Assuming 'MntWines' follows a right-skewed distribution (e.g., Gamma or Exponential)\n",
        "data['MntWines'].hist()  # Plot a histogram to visualize the distribution\n",
        "\n",
        "# Check for skewness\n",
        "skewness_wines = data['MntWines'].skew()\n",
        "\n",
        "if skewness_wines > 0:\n",
        "    # Positive skew indicates a right-skewed distribution\n",
        "    # It might be modeled as a Gamma or Exponential distribution\n",
        "    # You can choose the appropriate distribution and calculate the parameters\n",
        "\n",
        "    # For example, if you assume it follows a Gamma distribution:\n",
        "    shape_parameter = 2  # Shape parameter (adjust as needed)\n",
        "    scale_parameter = data['MntWines'].mean() / shape_parameter\n",
        "\n",
        "    # Define a threshold (example)\n",
        "    threshold = 200\n",
        "\n",
        "    # Calculate the probability of spending less than 'threshold' on wine products\n",
        "    probability_wines = stats.gamma.cdf(threshold, a=shape_parameter, scale=scale_parameter)\n",
        "    expected_wines = shape_parameter * scale_parameter\n",
        "\n",
        "    print(f\"Probability of spending less than ${threshold} on wine products: {probability_wines:.4f}\")\n",
        "    print(f\"Expected spending on wine products: {expected_wines:.2f}\")\n",
        "\n",
        "# You can adjust the parameters and apply a similar approach for other right-skewed variables.\n"
      ],
      "metadata": {
        "colab": {
          "base_uri": "https://localhost:8080/",
          "height": 465
        },
        "id": "079Uj3FqugeM",
        "outputId": "44359a7f-99d3-48ba-e311-fc07cab8b93d"
      },
      "execution_count": null,
      "outputs": [
        {
          "output_type": "stream",
          "name": "stdout",
          "text": [
            "Probability of spending less than $200 on wine products: 0.3789\n",
            "Expected spending on wine products: 303.94\n"
          ]
        },
        {
          "output_type": "display_data",
          "data": {
            "text/plain": [
              "<Figure size 640x480 with 1 Axes>"
            ],
            "image/png": "[encoded data removed]"
          },
          "metadata": {}
        }
      ]
    },
    {
      "cell_type": "code",
      "source": [
        "#14. MntGoldProds\n",
        "\n",
        "import scipy.stats as stats\n",
        "\n",
        "# Assuming 'MntGoldProds' follows a right-skewed distribution (e.g., Gamma or Exponential)\n",
        "data['MntGoldProds'].hist()  # Plot a histogram to visualize the distribution\n",
        "\n",
        "# Check for skewness\n",
        "skewness_gold_prods = data['MntGoldProds'].skew()\n",
        "\n",
        "if skewness_gold_prods > 0:\n",
        "    # Positive skew indicates a right-skewed distribution\n",
        "    # It might be modeled as a Gamma or Exponential distribution\n",
        "    # You can choose the appropriate distribution and calculate the parameters\n",
        "\n",
        "    # For example, if you assume it follows a Gamma distribution:\n",
        "    shape_parameter = 2  # Shape parameter (adjust as needed)\n",
        "    scale_parameter = data['MntGoldProds'].mean() / shape_parameter\n",
        "\n",
        "    # Define a threshold (example)\n",
        "    threshold = 50\n",
        "\n",
        "    # Calculate the probability of spending less than 'threshold' on gold products\n",
        "    probability_gold_prods = stats.gamma.cdf(threshold, a=shape_parameter, scale=scale_parameter)\n",
        "    expected_gold_prods = shape_parameter * scale_parameter\n",
        "\n",
        "    print(f\"Probability of spending less than ${threshold} on gold products: {probability_gold_prods:.4f}\")\n",
        "    print(f\"Expected spending on gold products: {expected_gold_prods:.2f}\")\n"
      ],
      "metadata": {
        "colab": {
          "base_uri": "https://localhost:8080/",
          "height": 465
        },
        "id": "BB1Sf_0ryNFe",
        "outputId": "0268546b-404b-4270-9a69-abdd13b93970"
      },
      "execution_count": null,
      "outputs": [
        {
          "output_type": "stream",
          "name": "stdout",
          "text": [
            "Probability of spending less than $50 on gold products: 0.6625\n",
            "Expected spending on gold products: 44.02\n"
          ]
        },
        {
          "output_type": "display_data",
          "data": {
            "text/plain": [
              "<Figure size 640x480 with 1 Axes>"
            ],
            "image/png": "[encoded data removed]"
          },
          "metadata": {}
        }
      ]
    },
    {
      "cell_type": "code",
      "source": [
        "#15. NumWebVisitsMonth\n",
        "\n",
        "from scipy.stats import poisson\n",
        "\n",
        "# Assuming 'NumWebVisitsMonth' follows a Poisson distribution\n",
        "lambda_web_visits = data['NumWebVisitsMonth'].mean()\n",
        "\n",
        "# Define the specific number of web visits (k) for which you want to calculate the probability\n",
        "k = 10  # Example: Number of web visits\n",
        "\n",
        "# Calculate the probability of having 'k' web visits in a month\n",
        "probability_web_visits = poisson.pmf(k, lambda_web_visits)\n",
        "expected_web_visits = lambda_web_visits\n",
        "\n",
        "print(f\"Probability of {k} web visits in a month: {probability_web_visits:.4f}\")\n",
        "print(f\"Expected number of web visits in a month: {expected_web_visits:.2f}\")\n"
      ],
      "metadata": {
        "colab": {
          "base_uri": "https://localhost:8080/"
        },
        "id": "AWhYpmNbyNI5",
        "outputId": "b1d8682a-9a83-4b96-d348-8e0f1191e91f"
      },
      "execution_count": null,
      "outputs": [
        {
          "output_type": "stream",
          "name": "stdout",
          "text": [
            "Probability of 10 web visits in a month: 0.0244\n",
            "Expected number of web visits in a month: 5.32\n"
          ]
        }
      ]
    },
    {
      "cell_type": "code",
      "source": [
        "#16. Recency\n",
        "\n",
        "import scipy.stats as stats\n",
        "\n",
        "# Assuming 'Recency' follows an exponential distribution\n",
        "data['Recency'].hist()  # Plot a histogram to visualize the distribution\n",
        "\n",
        "# Check for skewness or assess the shape of the distribution\n",
        "\n",
        "# Assuming it is exponentially distributed:\n",
        "lambda_recency = 1 / data['Recency'].mean()  # Calculate the rate parameter (λ) from the mean\n",
        "\n",
        "# Define a threshold (example)\n",
        "threshold = 30\n",
        "\n",
        "# Calculate the probability of recency being less than 'threshold'\n",
        "probability_recency = stats.expon.cdf(threshold, scale=1 / lambda_recency)\n",
        "expected_recency = 1 / lambda_recency\n",
        "\n",
        "print(f\"Probability of recency less than {threshold} days: {probability_recency:.4f}\")\n",
        "print(f\"Expected recency: {expected_recency:.2f}\")\n"
      ],
      "metadata": {
        "colab": {
          "base_uri": "https://localhost:8080/",
          "height": 465
        },
        "id": "WScU_Ac-zLLN",
        "outputId": "ae49b7f4-8a85-4040-fe4c-b67cd3129d3e"
      },
      "execution_count": null,
      "outputs": [
        {
          "output_type": "stream",
          "name": "stdout",
          "text": [
            "Probability of recency less than 30 days: 0.4571\n",
            "Expected recency: 49.11\n"
          ]
        },
        {
          "output_type": "display_data",
          "data": {
            "text/plain": [
              "<Figure size 640x480 with 1 Axes>"
            ],
            "image/png": "[encoded data removed]"
          },
          "metadata": {}
        }
      ]
    },
    {
      "cell_type": "code",
      "source": [
        "#17. Income\n",
        "\n",
        "# Define the parameters\n",
        "mean_income = data['Income'].mean()\n",
        "std_deviation_income = data['Income'].std()\n",
        "lower_limit = 30000  # Example: Lower limit of income range\n",
        "upper_limit = 60000  # Example: Upper limit of income range\n",
        "\n",
        "# Calculate the probability P(lower_limit <= X <= upper_limit)\n",
        "probability_range = stats.norm.cdf(upper_limit, loc=mean_income, scale=std_deviation_income) - stats.norm.cdf(lower_limit, loc=mean_income, scale=std_deviation_income)\n",
        "\n",
        "print(f\"Probability of Income between ${lower_limit} and ${upper_limit}: {probability_range:.4f}\")\n",
        "print(f\"Expected Income: {mean_income:.2f}\")\n"
      ],
      "metadata": {
        "colab": {
          "base_uri": "https://localhost:8080/"
        },
        "id": "ZmzMwdn5gSpC",
        "outputId": "3cf9b625-b30a-4994-c370-007754554297"
      },
      "execution_count": null,
      "outputs": [
        {
          "output_type": "stream",
          "name": "stdout",
          "text": [
            "Probability of Income between $30000 and $60000: 0.4345\n",
            "Expected Income: 52237.98\n"
          ]
        }
      ]
    },
    {
      "cell_type": "code",
      "source": [
        "#18. Response\n",
        "\n",
        "# Calculate the proportion of customers who accepted the offer (probability of success)\n",
        "p_success = data['Response'].mean()\n",
        "\n",
        "# Expected number of customers who accepted the offer (same as the probability for a binary variable)\n",
        "expected_response = p_success\n",
        "\n",
        "print(f\"Probability of a customer accepting the offer: {p_success:.4f}\")\n",
        "print(f\"Expected number of customers who accepted the offer: {expected_response:.2f}\")\n"
      ],
      "metadata": {
        "colab": {
          "base_uri": "https://localhost:8080/"
        },
        "id": "zbrjTShR0Jge",
        "outputId": "6278e26b-3a44-41da-ee6b-72cf5b72eb12"
      },
      "execution_count": null,
      "outputs": [
        {
          "output_type": "stream",
          "name": "stdout",
          "text": [
            "Probability of a customer accepting the offer: 0.1491\n",
            "Expected number of customers who accepted the offer: 0.15\n"
          ]
        }
      ]
    },
    {
      "cell_type": "markdown",
      "source": [
        "**Deliverables**:\n",
        "\n",
        "- **Determination of suitable probability distributions for relevant variables and corresponding calculated probabilities and expected values.**:\n",
        "\n",
        "  "
      ],
      "metadata": {
        "id": "kgjtExiJay2_"
      }
    },
    {
      "cell_type": "markdown",
      "source": [
        "## Task 4: Insights and Customer Segmentation 📈\n",
        "\n",
        "- **Explore relationships between customer characteristics and spending habits. Segment customers based on their behaviors and characteristics.**"
      ],
      "metadata": {
        "id": "ZSHZP8wgcIKE"
      }
    },
    {
      "cell_type": "markdown",
      "source": [
        "**Deliverables**:\n",
        "\n",
        "- **Key insights regarding relationships between variables and distinct customer segments based on behaviors.**\n",
        "\n",
        "  "
      ],
      "metadata": {
        "id": "1UYOJxazcRi3"
      }
    },
    {
      "cell_type": "markdown",
      "source": [
        "## Task 5: Conclusion and Recommendations\n",
        "\n",
        "- **Create clear visualizations to showcase your findings. Use insights to make recommendations for the company based on your analysis.**"
      ],
      "metadata": {
        "id": "Fv6iVJbgiwf2"
      }
    },
    {
      "cell_type": "markdown",
      "source": [
        "**Deliverables**:\n",
        "\n",
        "- **Well-designed visualizations that visually represent your insights and actionable recommendations based on customer behavior analysis.**"
      ],
      "metadata": {
        "id": "-z5hEuOejQjd"
      }
    },
    {
      "cell_type": "markdown",
      "source": [
        "# Conclusion:\n",
        "\n",
        "###Customer Complaints:\n",
        "\n",
        "The probability of a customer complaining is relatively low (0.0094), and the expected number of complaints is also low (0.01). This suggests that the company has a relatively low complaint rate, which is a positive indicator of customer satisfaction.\n",
        "\n",
        "###Deal Purchases:\n",
        "The probability of making 1 deal purchase is around 0.2273, and the expected number of deals is 2.33. This indicates that a significant portion of customers make at least one deal purchase, which can be leveraged for targeted marketing and promotions.\n",
        "\n",
        "###Number of Kids and Teenagers at Home:\n",
        "The probability of having 2 kids at home is 0.0633, and the expected number of kids at home is 0.44. Similarly, the probability of having 2 teenagers at home is 0.0772, with an expected number of 0.51. This provides insights into the family composition of customers.\n",
        "\n",
        "###Catalog and Store Purchases:\n",
        "\n",
        "The probability of making 4 purchases from a catalog is 0.1461, and the expected number of catalog purchases is 2.66. Additionally, the probability of making 10 purchases directly in stores is 0.0357, with an expected number of 5.79. Understanding preferred purchasing channels can guide marketing strategies.\n",
        "\n",
        "###Web Purchases:\n",
        "\n",
        "The probability of making 1 purchase from the website is 0.0687, with an expected number of 4.08. This highlights the significance of the online channel in customer behavior.\n",
        "\n",
        "###Age Distribution:\n",
        "The probability of an age between 1900 and 1944 is 0.0192, with an expected age of 1968.81. Understanding the age distribution helps tailor products and marketing to different age groups.\n",
        "\n",
        "###Spending on Product Categories:\n",
        "\n",
        "Probabilities and expected values for spending on various product categories (fish, meat, fruits, sweet, wine, and gold) provide insights into customer preferences and can inform product stocking and promotions.\n",
        "\n",
        "###Web Visits:\n",
        "\n",
        "The probability of 10 web visits in a month is 0.0244, with an expected number of 5.32. This highlights the importance of maintaining an engaging online presence.\n",
        "\n",
        "###Recency and Income:\n",
        "\n",
        "The probability of recency less than 30 days is 0.4571, with an expected recency of 49.11. The probability of income between $30,000 and $60,000 is 0.4345, with an expected income of $52,237.98. These factors are essential for customer targeting and retention.\n",
        "\n",
        "###Response to Offers:\n",
        "\n",
        "The probability of a customer accepting the offer is 0.1491, and the expected number of customers who accepted the offer is 0.15. Understanding customer responses to offers is crucial for campaign effectiveness.\n",
        "Recommendations:\n",
        "\n",
        "# Based on the insights gained, here are some recommendations for the company:\n",
        "\n",
        "###Customer Complaints:\n",
        "\n",
        "Continue efforts to maintain a low complaint rate by providing excellent customer service.\n",
        "\n",
        "###Deal Purchases:\n",
        "\n",
        "Leverage the high probability of customers making at least one deal purchase for targeted marketing and promotions.\n",
        "\n",
        "###Family Composition:\n",
        "\n",
        "Tailor products and offers to suit families with both children and teenagers at home.\n",
        "\n",
        "###Purchasing Channels:\n",
        "\n",
        "Optimize marketing strategies for both catalog and store purchases, recognizing their importance. Ensure an appealing online presence for web purchases.\n",
        "\n",
        "###Age-Based Targeting:\n",
        "\n",
        "Segment marketing campaigns based on age groups to better address customer preferences and needs.\n",
        "\n",
        "###Product Categories:\n",
        "\n",
        "Promote popular product categories while considering the variance in spending on different items.\n",
        "\n",
        "###Web Engagement:\n",
        "\n",
        "Maintain a dynamic website to encourage customer engagement.\n",
        "\n",
        "###Recency and Income:\n",
        "\n",
        "Focus on retaining recently active customers and tailor offers based on their income level.\n",
        "\n",
        "###Campaign Effectiveness:\n",
        "\n",
        "Continuously monitor and analyze customer responses to offers to refine future campaigns.\n",
        "\n",
        "\n",
        "\n",
        "\n",
        "\n"
      ],
      "metadata": {
        "id": "49DjYxQE8TUq"
      }
    },
    {
      "cell_type": "markdown",
      "source": [
        "## Bonus Task - Geogebra Experiment\n",
        "\n"
      ],
      "metadata": {
        "id": "Fib_ksA9jmii"
      }
    },
    {
      "cell_type": "markdown",
      "source": [
        "Here's the link to an intriguing GeoGebra experiment: [GeoGebra Experiment Link](https://www.geogebra.org/m/LZbwMZtJ)\n",
        "\n",
        "This experiment lets you simulate coin flips as per your preferences and specifications!\n",
        "\n",
        "Your task involves recording a video where you'll explain the concept of the **Law of Large Numbers** using this experiment. Dive further into the experience by adjusting the number of coins and exploring varying coin biases. 🪙📹🔍"
      ],
      "metadata": {
        "id": "olsEhR8RjsIF"
      }
    }
  ]
}